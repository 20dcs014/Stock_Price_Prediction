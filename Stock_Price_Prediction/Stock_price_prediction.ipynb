{
 "cells": [
  {
   "cell_type": "code",
   "execution_count": 1,
   "id": "e6e7a55a",
   "metadata": {},
   "outputs": [],
   "source": [
    "import pandas as pd\n",
    "import numpy as np\n",
    "from sklearn.preprocessing import MinMaxScaler\n",
    "from sklearn.metrics import mean_squared_error\n",
    "import math\n",
    "import matplotlib.pyplot as plt\n",
    "from tensorflow.keras.models import Sequential\n",
    "from tensorflow.keras.layers import LSTM, Dense\n"
   ]
  },
  {
   "cell_type": "code",
   "execution_count": 2,
   "id": "9a35803c",
   "metadata": {},
   "outputs": [],
   "source": [
    "data = pd.read_csv(\"stocks.csv\")"
   ]
  },
  {
   "cell_type": "code",
   "execution_count": 3,
   "id": "b4320382",
   "metadata": {},
   "outputs": [
    {
     "data": {
      "text/html": [
       "<div>\n",
       "<style scoped>\n",
       "    .dataframe tbody tr th:only-of-type {\n",
       "        vertical-align: middle;\n",
       "    }\n",
       "\n",
       "    .dataframe tbody tr th {\n",
       "        vertical-align: top;\n",
       "    }\n",
       "\n",
       "    .dataframe thead th {\n",
       "        text-align: right;\n",
       "    }\n",
       "</style>\n",
       "<table border=\"1\" class=\"dataframe\">\n",
       "  <thead>\n",
       "    <tr style=\"text-align: right;\">\n",
       "      <th></th>\n",
       "      <th>Ticker</th>\n",
       "      <th>Date</th>\n",
       "      <th>Open</th>\n",
       "      <th>High</th>\n",
       "      <th>Low</th>\n",
       "      <th>Close</th>\n",
       "      <th>Adj Close</th>\n",
       "      <th>Volume</th>\n",
       "    </tr>\n",
       "  </thead>\n",
       "  <tbody>\n",
       "    <tr>\n",
       "      <th>0</th>\n",
       "      <td>AAPL</td>\n",
       "      <td>2023-02-07</td>\n",
       "      <td>150.639999</td>\n",
       "      <td>155.229996</td>\n",
       "      <td>150.639999</td>\n",
       "      <td>154.649994</td>\n",
       "      <td>154.414230</td>\n",
       "      <td>83322600</td>\n",
       "    </tr>\n",
       "    <tr>\n",
       "      <th>1</th>\n",
       "      <td>AAPL</td>\n",
       "      <td>2023-02-08</td>\n",
       "      <td>153.880005</td>\n",
       "      <td>154.580002</td>\n",
       "      <td>151.169998</td>\n",
       "      <td>151.919998</td>\n",
       "      <td>151.688400</td>\n",
       "      <td>64120100</td>\n",
       "    </tr>\n",
       "    <tr>\n",
       "      <th>2</th>\n",
       "      <td>AAPL</td>\n",
       "      <td>2023-02-09</td>\n",
       "      <td>153.779999</td>\n",
       "      <td>154.330002</td>\n",
       "      <td>150.419998</td>\n",
       "      <td>150.869995</td>\n",
       "      <td>150.639999</td>\n",
       "      <td>56007100</td>\n",
       "    </tr>\n",
       "    <tr>\n",
       "      <th>3</th>\n",
       "      <td>AAPL</td>\n",
       "      <td>2023-02-10</td>\n",
       "      <td>149.460007</td>\n",
       "      <td>151.339996</td>\n",
       "      <td>149.220001</td>\n",
       "      <td>151.009995</td>\n",
       "      <td>151.009995</td>\n",
       "      <td>57450700</td>\n",
       "    </tr>\n",
       "    <tr>\n",
       "      <th>4</th>\n",
       "      <td>AAPL</td>\n",
       "      <td>2023-02-13</td>\n",
       "      <td>150.949997</td>\n",
       "      <td>154.259995</td>\n",
       "      <td>150.919998</td>\n",
       "      <td>153.850006</td>\n",
       "      <td>153.850006</td>\n",
       "      <td>62199000</td>\n",
       "    </tr>\n",
       "  </tbody>\n",
       "</table>\n",
       "</div>"
      ],
      "text/plain": [
       "  Ticker        Date        Open        High         Low       Close  \\\n",
       "0   AAPL  2023-02-07  150.639999  155.229996  150.639999  154.649994   \n",
       "1   AAPL  2023-02-08  153.880005  154.580002  151.169998  151.919998   \n",
       "2   AAPL  2023-02-09  153.779999  154.330002  150.419998  150.869995   \n",
       "3   AAPL  2023-02-10  149.460007  151.339996  149.220001  151.009995   \n",
       "4   AAPL  2023-02-13  150.949997  154.259995  150.919998  153.850006   \n",
       "\n",
       "    Adj Close    Volume  \n",
       "0  154.414230  83322600  \n",
       "1  151.688400  64120100  \n",
       "2  150.639999  56007100  \n",
       "3  151.009995  57450700  \n",
       "4  153.850006  62199000  "
      ]
     },
     "execution_count": 3,
     "metadata": {},
     "output_type": "execute_result"
    }
   ],
   "source": [
    "data.head()"
   ]
  },
  {
   "cell_type": "code",
   "execution_count": 4,
   "id": "a8e932dd",
   "metadata": {},
   "outputs": [
    {
     "data": {
      "text/plain": [
       "(248, 8)"
      ]
     },
     "execution_count": 4,
     "metadata": {},
     "output_type": "execute_result"
    }
   ],
   "source": [
    "data.shape"
   ]
  },
  {
   "cell_type": "code",
   "execution_count": 5,
   "id": "e13fc824",
   "metadata": {},
   "outputs": [
    {
     "data": {
      "text/plain": [
       "Index(['Ticker', 'Date', 'Open', 'High', 'Low', 'Close', 'Adj Close',\n",
       "       'Volume'],\n",
       "      dtype='object')"
      ]
     },
     "execution_count": 5,
     "metadata": {},
     "output_type": "execute_result"
    }
   ],
   "source": [
    "data.columns"
   ]
  },
  {
   "cell_type": "code",
   "execution_count": null,
   "id": "4d5443a1",
   "metadata": {},
   "outputs": [],
   "source": [
    "pd.isnull(data).sum()"
   ]
  },
  {
   "cell_type": "markdown",
   "id": "ee40e452",
   "metadata": {},
   "source": [
    "### # Select relevant columns"
   ]
  },
  {
   "cell_type": "code",
   "execution_count": 6,
   "id": "aaf4fc97",
   "metadata": {},
   "outputs": [],
   "source": [
    "# Select relevant columns\n",
    "selected_columns = ['Open', 'High', 'Low', 'Volume', 'Close']\n",
    "data = data[selected_columns]\n"
   ]
  },
  {
   "cell_type": "code",
   "execution_count": 7,
   "id": "4590a24e",
   "metadata": {},
   "outputs": [],
   "source": [
    "# Normalize the data\n",
    "scaler = MinMaxScaler()\n",
    "data_scaled = scaler.fit_transform(data)\n"
   ]
  },
  {
   "cell_type": "code",
   "execution_count": 8,
   "id": "f0120ef3",
   "metadata": {},
   "outputs": [],
   "source": [
    "# Define the number of previous days' data to consider for prediction\n",
    "seq_length = 10\n",
    "\n",
    "# Create sequences for input and output\n",
    "def create_sequences(data, seq_length):\n",
    "    X, y = [], []\n",
    "    for i in range(len(data) - seq_length):\n",
    "        X.append(data[i:i+seq_length, :-1])\n",
    "        y.append(data[i+seq_length, -1])\n",
    "    return np.array(X), np.array(y)\n",
    "\n",
    "X, y = create_sequences(data_scaled, seq_length)\n"
   ]
  },
  {
   "cell_type": "code",
   "execution_count": 9,
   "id": "1d2abeff",
   "metadata": {},
   "outputs": [],
   "source": [
    "# Split the data into training and testing sets\n",
    "split_ratio = 0.8\n",
    "split_index = int(split_ratio * len(X))\n",
    "X_train, X_test = X[:split_index], X[split_index:]\n",
    "y_train, y_test = y[:split_index], y[split_index:]\n"
   ]
  },
  {
   "cell_type": "markdown",
   "id": "2ea8ffaa",
   "metadata": {},
   "source": [
    "### Build the LSTM model"
   ]
  },
  {
   "cell_type": "code",
   "execution_count": 10,
   "id": "4f1fd5cf",
   "metadata": {},
   "outputs": [],
   "source": [
    "# Build the LSTM model\n",
    "model = Sequential([\n",
    "    LSTM(50, activation='relu', input_shape=(seq_length, 4)),\n",
    "    Dense(1)\n",
    "])\n",
    "\n",
    "model.compile(optimizer='adam', loss='mean_squared_error')"
   ]
  },
  {
   "cell_type": "code",
   "execution_count": 11,
   "id": "4599bad3",
   "metadata": {},
   "outputs": [
    {
     "name": "stdout",
     "output_type": "stream",
     "text": [
      "Epoch 1/50\n",
      "12/12 [==============================] - 4s 59ms/step - loss: 0.1506 - val_loss: 0.0065\n",
      "Epoch 2/50\n",
      "12/12 [==============================] - 0s 14ms/step - loss: 0.0262 - val_loss: 0.0129\n",
      "Epoch 3/50\n",
      "12/12 [==============================] - 0s 13ms/step - loss: 0.0166 - val_loss: 0.0038\n",
      "Epoch 4/50\n",
      "12/12 [==============================] - 0s 13ms/step - loss: 0.0133 - val_loss: 0.0020\n",
      "Epoch 5/50\n",
      "12/12 [==============================] - 0s 13ms/step - loss: 0.0112 - val_loss: 4.6663e-04\n",
      "Epoch 6/50\n",
      "12/12 [==============================] - 0s 13ms/step - loss: 0.0102 - val_loss: 1.4533e-04\n",
      "Epoch 7/50\n",
      "12/12 [==============================] - 0s 13ms/step - loss: 0.0096 - val_loss: 9.2927e-05\n",
      "Epoch 8/50\n",
      "12/12 [==============================] - 0s 12ms/step - loss: 0.0088 - val_loss: 7.4180e-05\n",
      "Epoch 9/50\n",
      "12/12 [==============================] - 0s 14ms/step - loss: 0.0085 - val_loss: 1.6133e-04\n",
      "Epoch 10/50\n",
      "12/12 [==============================] - 0s 16ms/step - loss: 0.0079 - val_loss: 5.0570e-04\n",
      "Epoch 11/50\n",
      "12/12 [==============================] - 0s 13ms/step - loss: 0.0076 - val_loss: 2.9296e-04\n",
      "Epoch 12/50\n",
      "12/12 [==============================] - 0s 14ms/step - loss: 0.0075 - val_loss: 9.0414e-04\n",
      "Epoch 13/50\n",
      "12/12 [==============================] - 0s 14ms/step - loss: 0.0070 - val_loss: 2.8425e-04\n",
      "Epoch 14/50\n",
      "12/12 [==============================] - 0s 14ms/step - loss: 0.0069 - val_loss: 7.8540e-04\n",
      "Epoch 15/50\n",
      "12/12 [==============================] - 0s 15ms/step - loss: 0.0067 - val_loss: 2.2081e-04\n",
      "Epoch 16/50\n",
      "12/12 [==============================] - 0s 13ms/step - loss: 0.0068 - val_loss: 2.5772e-04\n",
      "Epoch 17/50\n",
      "12/12 [==============================] - 0s 14ms/step - loss: 0.0070 - val_loss: 2.9943e-04\n",
      "Epoch 18/50\n",
      "12/12 [==============================] - 0s 14ms/step - loss: 0.0065 - val_loss: 1.3530e-04\n",
      "Epoch 19/50\n",
      "12/12 [==============================] - 0s 14ms/step - loss: 0.0062 - val_loss: 5.9089e-04\n",
      "Epoch 20/50\n",
      "12/12 [==============================] - 0s 17ms/step - loss: 0.0065 - val_loss: 1.9564e-04\n",
      "Epoch 21/50\n",
      "12/12 [==============================] - 0s 13ms/step - loss: 0.0067 - val_loss: 1.0193e-04\n",
      "Epoch 22/50\n",
      "12/12 [==============================] - 0s 17ms/step - loss: 0.0062 - val_loss: 3.1182e-04\n",
      "Epoch 23/50\n",
      "12/12 [==============================] - 0s 14ms/step - loss: 0.0067 - val_loss: 1.2325e-04\n",
      "Epoch 24/50\n",
      "12/12 [==============================] - 0s 13ms/step - loss: 0.0061 - val_loss: 9.8590e-05\n",
      "Epoch 25/50\n",
      "12/12 [==============================] - 0s 15ms/step - loss: 0.0059 - val_loss: 2.7244e-04\n",
      "Epoch 26/50\n",
      "12/12 [==============================] - 0s 14ms/step - loss: 0.0061 - val_loss: 1.2543e-04\n",
      "Epoch 27/50\n",
      "12/12 [==============================] - 0s 14ms/step - loss: 0.0059 - val_loss: 1.5491e-04\n",
      "Epoch 28/50\n",
      "12/12 [==============================] - 0s 13ms/step - loss: 0.0061 - val_loss: 2.8541e-04\n",
      "Epoch 29/50\n",
      "12/12 [==============================] - 0s 13ms/step - loss: 0.0058 - val_loss: 1.3452e-04\n",
      "Epoch 30/50\n",
      "12/12 [==============================] - 0s 13ms/step - loss: 0.0057 - val_loss: 1.2252e-04\n",
      "Epoch 31/50\n",
      "12/12 [==============================] - 0s 13ms/step - loss: 0.0057 - val_loss: 1.6946e-04\n",
      "Epoch 32/50\n",
      "12/12 [==============================] - 0s 14ms/step - loss: 0.0059 - val_loss: 1.1566e-04\n",
      "Epoch 33/50\n",
      "12/12 [==============================] - 0s 13ms/step - loss: 0.0056 - val_loss: 1.8387e-04\n",
      "Epoch 34/50\n",
      "12/12 [==============================] - 0s 13ms/step - loss: 0.0056 - val_loss: 1.0387e-04\n",
      "Epoch 35/50\n",
      "12/12 [==============================] - 0s 13ms/step - loss: 0.0059 - val_loss: 1.7165e-04\n",
      "Epoch 36/50\n",
      "12/12 [==============================] - 0s 12ms/step - loss: 0.0053 - val_loss: 1.8585e-04\n",
      "Epoch 37/50\n",
      "12/12 [==============================] - 0s 13ms/step - loss: 0.0057 - val_loss: 2.2551e-04\n",
      "Epoch 38/50\n",
      "12/12 [==============================] - 0s 14ms/step - loss: 0.0063 - val_loss: 2.0498e-04\n",
      "Epoch 39/50\n",
      "12/12 [==============================] - 0s 15ms/step - loss: 0.0056 - val_loss: 2.0425e-04\n",
      "Epoch 40/50\n",
      "12/12 [==============================] - 0s 13ms/step - loss: 0.0054 - val_loss: 1.4192e-04\n",
      "Epoch 41/50\n",
      "12/12 [==============================] - 0s 13ms/step - loss: 0.0053 - val_loss: 3.7853e-04\n",
      "Epoch 42/50\n",
      "12/12 [==============================] - 0s 13ms/step - loss: 0.0051 - val_loss: 1.6149e-04\n",
      "Epoch 43/50\n",
      "12/12 [==============================] - 0s 13ms/step - loss: 0.0053 - val_loss: 6.5507e-04\n",
      "Epoch 44/50\n",
      "12/12 [==============================] - 0s 14ms/step - loss: 0.0053 - val_loss: 4.0773e-04\n",
      "Epoch 45/50\n",
      "12/12 [==============================] - 0s 14ms/step - loss: 0.0052 - val_loss: 3.9455e-04\n",
      "Epoch 46/50\n",
      "12/12 [==============================] - 0s 13ms/step - loss: 0.0051 - val_loss: 3.3244e-04\n",
      "Epoch 47/50\n",
      "12/12 [==============================] - 0s 13ms/step - loss: 0.0049 - val_loss: 5.4593e-04\n",
      "Epoch 48/50\n",
      "12/12 [==============================] - 0s 14ms/step - loss: 0.0050 - val_loss: 1.8130e-04\n",
      "Epoch 49/50\n",
      "12/12 [==============================] - 0s 13ms/step - loss: 0.0051 - val_loss: 3.8126e-04\n",
      "Epoch 50/50\n",
      "12/12 [==============================] - 0s 12ms/step - loss: 0.0056 - val_loss: 1.9321e-04\n"
     ]
    },
    {
     "data": {
      "text/plain": [
       "<keras.src.callbacks.History at 0x233b1c2b8d0>"
      ]
     },
     "execution_count": 11,
     "metadata": {},
     "output_type": "execute_result"
    }
   ],
   "source": [
    "\n",
    "# Train the model\n",
    "model.fit(X_train, y_train, epochs=50, batch_size=16, validation_data=(X_test, y_test))\n"
   ]
  },
  {
   "cell_type": "code",
   "execution_count": 12,
   "id": "88ced1af",
   "metadata": {
    "scrolled": true
   },
   "outputs": [
    {
     "name": "stdout",
     "output_type": "stream",
     "text": [
      "2/2 [==============================] - 0s 6ms/step\n"
     ]
    }
   ],
   "source": [
    "# Make predictions\n",
    "test_predictions = model.predict(X_test)\n",
    "test_predictions_unscaled = np.concatenate((X_test[:, -1, :], test_predictions), axis=1)\n",
    "test_predictions_unscaled = scaler.inverse_transform(test_predictions_unscaled)\n",
    "predicted_prices = test_predictions_unscaled[:, -1]\n",
    "\n"
   ]
  },
  {
   "cell_type": "code",
   "execution_count": 13,
   "id": "b8d663ef",
   "metadata": {},
   "outputs": [
    {
     "name": "stdout",
     "output_type": "stream",
     "text": [
      "Root Mean Squared Error: 0.01389989652752631\n"
     ]
    }
   ],
   "source": [
    "# Calculate RMSE\n",
    "rmse = math.sqrt(mean_squared_error(y_test, test_predictions))\n",
    "print(\"Root Mean Squared Error:\", rmse)"
   ]
  },
  {
   "cell_type": "code",
   "execution_count": 14,
   "id": "e31d0c76",
   "metadata": {},
   "outputs": [
    {
     "data": {
      "image/png": "[encoded data removed]",
      "text/plain": [
       "<Figure size 1200x600 with 1 Axes>"
      ]
     },
     "metadata": {},
     "output_type": "display_data"
    }
   ],
   "source": [
    "# Visualize the results\n",
    "plt.figure(figsize=(12, 6))\n",
    "plt.plot(y_test, label='Actual Prices')\n",
    "plt.plot(test_predictions, label='Predicted Prices')\n",
    "plt.legend()\n",
    "plt.title('Stock Price Prediction')\n",
    "plt.xlabel('Time')\n",
    "plt.ylabel('Stock Price')\n",
    "plt.show()"
   ]
  },
  {
   "cell_type": "code",
   "execution_count": null,
   "id": "437fb4e9",
   "metadata": {},
   "outputs": [],
   "source": []
  }
 ],
 "metadata": {
  "kernelspec": {
   "display_name": "Python 3 (ipykernel)",
   "language": "python",
   "name": "python3"
  },
  "language_info": {
   "codemirror_mode": {
    "name": "ipython",
    "version": 3
   },
   "file_extension": ".py",
   "mimetype": "text/x-python",
   "name": "python",
   "nbconvert_exporter": "python",
   "pygments_lexer": "ipython3",
   "version": "3.11.4"
  }
 },
 "nbformat": 4,
 "nbformat_minor": 5
}
